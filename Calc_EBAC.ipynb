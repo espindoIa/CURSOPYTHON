{
  "cells": [
    {
      "cell_type": "markdown",
      "source": [
        "# Calculadora"
      ],
      "metadata": {
        "id": "-yW3gudZkotY"
      },
      "id": "-yW3gudZkotY"
    },
    {
      "cell_type": "markdown",
      "id": "b0e0f042",
      "metadata": {
        "id": "b0e0f042"
      },
      "source": [
        "## Entrada de Dados"
      ]
    },
    {
      "cell_type": "code",
      "execution_count": null,
      "id": "eaccf1dd",
      "metadata": {
        "id": "eaccf1dd"
      },
      "outputs": [],
      "source": [
        "# Seção 1: Entrada de Dados\n",
        "\n",
        "# Solicita os números do usuário e tenta converter para int ou float\n",
        "numero_1 = input(\"Digite o primeiro número: \")\n",
        "numero_2 = input(\"Digite o segundo número: \")\n",
        "\n",
        "# Verifica se o número contém ponto (.) para determinar se é um float\n",
        "if '.' in numero_1:\n",
        "    numero_1 = float(numero_1)\n",
        "else:\n",
        "    numero_1 = int(numero_1)\n",
        "\n",
        "if '.' in numero_2:\n",
        "    numero_2 = float(numero_2)\n",
        "else:\n",
        "    numero_2 = int(numero_2)"
      ]
    },
    {
      "cell_type": "markdown",
      "id": "d0b5799f",
      "metadata": {
        "id": "d0b5799f"
      },
      "source": [
        "## Operações Matemáticas"
      ]
    },
    {
      "cell_type": "code",
      "execution_count": 2,
      "id": "038928e2",
      "metadata": {
        "id": "038928e2"
      },
      "outputs": [],
      "source": [
        "# Dicionário que armazena as operações matemáticas\n",
        "operacoes = {\n",
        "    '1': ('Soma', numero_1 + numero_2),\n",
        "    '2': ('Subtração', numero_1 - numero_2),\n",
        "    '3': ('Multiplicação', numero_1 * numero_2),\n",
        "    '4': ('Divisão', numero_1 / numero_2 if numero_2 != 0 else \"Erro: Divisão por zero não é permitida\"),\n",
        "    '5': ('Potenciação', numero_1 ** numero_2),\n",
        "    '6': ('Radiciação', numero_1 ** (1/numero_2) if numero_2 != 0 else \"Erro: Radiciação com expoente zero não é permitida\")\n",
        "}"
      ]
    },
    {
      "cell_type": "markdown",
      "id": "73e9f31e",
      "metadata": {
        "id": "73e9f31e"
      },
      "source": [
        "## Loop de Seleção de Operação"
      ]
    },
    {
      "cell_type": "code",
      "execution_count": null,
      "id": "5471809b",
      "metadata": {
        "id": "5471809b"
      },
      "outputs": [],
      "source": [
        "while True:\n",
        "    # Exibe as opções de operação\n",
        "    print(\"\\nEscolha a operação:\")\n",
        "    print(\"1 - Soma\")\n",
        "    print(\"2 - Subtração\")\n",
        "    print(\"3 - Multiplicação\")\n",
        "    print(\"4 - Divisão\")\n",
        "    print(\"5 - Potenciação\")\n",
        "    print(\"6 - Radiciação\")\n",
        "    print(\"7 - Sair\")\n",
        "\n",
        "    # Recebe a escolha do usuário\n",
        "    escolha = input(\"Digite o número da operação desejada: \")\n",
        "\n",
        "    # Verifica se a escolha está dentro das opções\n",
        "    if escolha in operacoes:\n",
        "        operacao, resultado = operacoes[escolha]\n",
        "        print(f\"O resultado da {operacao} é: {resultado}\")\n",
        "    elif escolha == '7':\n",
        "        print(\"Encerrando o programa.\")\n",
        "        break\n",
        "    else:\n",
        "        print(\"Opção inválida. Por favor, tente novamente.\")\n",
        "\n",
        "    # Pergunta se o usuário deseja realizar outra operação\n",
        "    nova_operacao = input(\"\\nDeseja realizar outra operação? (s/n): \")\n",
        "    if nova_operacao.lower() != 's':\n",
        "        print(\"Encerrando o programa.\")\n",
        "        break"
      ]
    }
  ],
  "metadata": {
    "colab": {
      "provenance": [],
      "collapsed_sections": [
        "b0e0f042",
        "73e9f31e"
      ]
    },
    "language_info": {
      "name": "python"
    },
    "kernelspec": {
      "name": "python3",
      "display_name": "Python 3"
    }
  },
  "nbformat": 4,
  "nbformat_minor": 5
}